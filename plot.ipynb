{
 "cells": [
  {
   "cell_type": "code",
   "execution_count": 29,
   "metadata": {},
   "outputs": [],
   "source": [
    "import json\n",
    "import os\n",
    "import matplotlib.pyplot as plt\n",
    "import numpy as np\n",
    "\n",
    "# 指定文件夹路径\n",
    "folder_path = './saved_results/DyGFormer'\n",
    "\n",
    "# 初始化数据列表\n",
    "labels = []\n",
    "average_precision = []\n",
    "roc_auc = []"
   ]
  },
  {
   "cell_type": "code",
   "execution_count": 40,
   "metadata": {},
   "outputs": [
    {
     "name": "stdout",
     "output_type": "stream",
     "text": [
      "./saved_results/DyGFormer/uci/DyGFormer_seed0.json\n",
      "./saved_results/DyGFormer/Contacts/DyGFormer_seed0.json\n",
      "./saved_results/DyGFormer/wikipedia/DyGFormer_seed4.json\n",
      "./saved_results/DyGFormer/wikipedia/DyGFormer_seed0.json\n",
      "./saved_results/DyGFormer/wikipedia/DyGFormer_seed2.json\n",
      "./saved_results/DyGFormer/wikipedia/node_classification_DyGFormer_seed0.json\n",
      "./saved_results/DyGFormer/wikipedia/DyGFormer_seed1.json\n",
      "./saved_results/DyGFormer/wikipedia/DyGFormer_seed3.json\n",
      "./saved_results/DyGFormer/lastfm/DyGFormer_seed0.json\n",
      "./saved_results/DyGFormer/Flights/DyGFormer_seed0.json\n",
      "./saved_results/DyGFormer/UNtrade/DyGFormer_seed0.json\n",
      "./saved_results/DyGFormer/SocialEvo/DyGFormer_seed0.json\n",
      "./saved_results/DyGFormer/USLegis/DyGFormer_seed0.json\n",
      "./saved_results/DyGFormer/enron/DyGFormer_seed0.json\n",
      "./saved_results/DyGFormer/CanParl/DyGFormer_seed0.json\n",
      "./saved_results/DyGFormer/myket/DyGFormer_seed0.json\n",
      "./saved_results/DyGFormer/UNvote/DyGFormer_seed0.json\n",
      "./saved_results/DyGFormer/mooc/DyGFormer_seed0.json\n",
      "./saved_results/DyGFormer/reddit/DyGFormer_seed0.json\n"
     ]
    }
   ],
   "source": [
    "# 读取每个 JSON 文件并提取数据\n",
    "# 遍历文件夹内的文件\n",
    "for root, dirs, files in os.walk(folder_path):\n",
    "    files = [os.path.join(root, file) for file in files]\n",
    "    for filename in files:\n",
    "        cols = filename.split('/')\n",
    "        print(filename)\n",
    "        with open(filename, 'r') as f:\n",
    "            data = json.load(f)\n",
    "        labels.extend([cols[-2]+k  for k in data.keys()])\n",
    "        average_precision.extend([float(v['average_precision']) if 'average_precision' in v else None for v in data.values()])\n",
    "        roc_auc.extend([float(v['roc_auc']) for v in data.values()])"
   ]
  },
  {
   "cell_type": "code",
   "execution_count": 42,
   "metadata": {},
   "outputs": [
    {
     "name": "stdout",
     "output_type": "stream",
     "text": [
      "[0.9451, 0.916, 0.9595, 0.9464, 0.9829, 0.9797, 0.9818, 0.9794, 0.9451, 0.916, 0.9595, 0.9464, 0.9829, 0.9797, 0.9818, 0.9794, 0.9451, 0.916, 0.9595, 0.9464, 0.9829, 0.9797, 0.9818, 0.9794, 0.9451, 0.916, 0.9595, 0.9464, 0.9829, 0.9797, 0.9818, 0.9794, 0.9451, 0.916, 0.9595, 0.9464, 0.9829, 0.9797, 0.9818, 0.9794, None, None, 0.9451, 0.916, 0.9595, 0.9464, 0.9829, 0.9797, 0.9818, 0.9794, None, None, 0.9451, 0.916, 0.9595, 0.9464, 0.9829, 0.9797, 0.9818, 0.9794, 0.9451, 0.916, 0.9595, 0.9464, 0.9829, 0.9797, 0.9818, 0.9794, 0.9451, 0.916, 0.9595, 0.9464, 0.9829, 0.9797, 0.9818, 0.9794, 0.9451, 0.916, 0.9595, 0.9464, 0.9829, 0.9797, 0.9818, 0.9794, 0.9451, 0.916, 0.9595, 0.9464, 0.9829, 0.9797, 0.9818, 0.9794, 0.9917, 0.989, 0.9903, 0.9859, 0.9592, 0.9416, 0.8716, 0.8267, 0.992, 0.9897, 0.9902, 0.9853, None, None, 0.958, 0.9391, 0.87, 0.823, 0.9919, 0.9896, 0.9901, 0.9859, 0.8759, 0.8823, 0.8889, 0.9123, 0.9819, 0.9655, 0.982, 0.9659, 0.5952, 0.5955, 0.5877, 0.5838, 0.9352, 0.9217, 0.9454, 0.9309, 0.6885, 0.5288, 0.6957, 0.51, 0.9105, 0.8919, 0.9097, 0.8817, 0.598, 0.5522, 0.7124, 0.545, 0.8114, 0.7442, 0.8021, 0.7324, 0.5488, 0.5365, 0.5491, 0.5329, 0.8436, 0.8132, 0.8445, 0.8296, 0.9899, 0.9843, 0.9902, 0.9855] [0.9288, 0.8838, 0.9474, 0.9275, 0.9848, 0.9822, 0.9841, 0.9819, 0.9288, 0.8838, 0.9474, 0.9275, 0.9848, 0.9822, 0.9841, 0.9819, 0.9288, 0.8838, 0.9474, 0.9275, 0.9848, 0.9822, 0.9841, 0.9819, 0.9288, 0.8838, 0.9474, 0.9275, 0.9848, 0.9822, 0.9841, 0.9819, 0.9288, 0.8838, 0.9474, 0.9275, 0.9848, 0.9822, 0.9841, 0.9819, 0.7968, 0.8427, 0.9288, 0.8838, 0.9474, 0.9275, 0.9848, 0.9822, 0.9841, 0.9819, 0.7968, 0.8427, 0.9288, 0.8838, 0.9474, 0.9275, 0.9848, 0.9822, 0.9841, 0.9819, 0.9288, 0.8838, 0.9474, 0.9275, 0.9848, 0.9822, 0.9841, 0.9819, 0.9288, 0.8838, 0.9474, 0.9275, 0.9848, 0.9822, 0.9841, 0.9819, 0.9288, 0.8838, 0.9474, 0.9275, 0.9848, 0.9822, 0.9841, 0.9819, 0.9288, 0.8838, 0.9474, 0.9275, 0.9848, 0.9822, 0.9841, 0.9819, 0.9912, 0.9884, 0.9891, 0.9846, 0.9916, 0.9889, 0.9894, 0.985, 0.9912, 0.989, 0.9888, 0.9844, 0.8598, 0.8669, 0.9909, 0.9881, 0.9889, 0.9845, 0.9912, 0.9889, 0.989, 0.985, 0.8521, 0.8578, 0.8682, 0.8956, 0.9803, 0.9625, 0.9809, 0.9615, 0.6397, 0.6279, 0.6305, 0.619, 0.9538, 0.9453, 0.9618, 0.9524, 0.7567, 0.5203, 0.7638, 0.4944, 0.9163, 0.8973, 0.9133, 0.8812, 0.5902, 0.5242, 0.7901, 0.5348, 0.8062, 0.7193, 0.7941, 0.7003, 0.5623, 0.5321, 0.5609, 0.5346, 0.8468, 0.8124, 0.8427, 0.827, 0.9888, 0.9822, 0.9888, 0.9833]\n"
     ]
    },
    {
     "ename": "ValueError",
     "evalue": "shape mismatch: objects cannot be broadcast to a single shape.  Mismatch is between arg 0 with shape (166,) and arg 1 with shape (158,).",
     "output_type": "error",
     "traceback": [
      "\u001b[0;31m---------------------------------------------------------------------------\u001b[0m",
      "\u001b[0;31mValueError\u001b[0m                                Traceback (most recent call last)",
      "Cell \u001b[0;32mIn[42], line 9\u001b[0m\n\u001b[1;32m      6\u001b[0m \u001b[38;5;28mprint\u001b[39m(average_precision, roc_auc)\n\u001b[1;32m      8\u001b[0m \u001b[38;5;66;03m# 添加柱状图\u001b[39;00m\n\u001b[0;32m----> 9\u001b[0m rects1 \u001b[38;5;241m=\u001b[39m \u001b[43max\u001b[49m\u001b[38;5;241;43m.\u001b[39;49m\u001b[43mbar\u001b[49m\u001b[43m(\u001b[49m\u001b[43mx\u001b[49m\u001b[43m \u001b[49m\u001b[38;5;241;43m-\u001b[39;49m\u001b[43m \u001b[49m\u001b[43mwidth\u001b[49m\u001b[38;5;241;43m/\u001b[39;49m\u001b[38;5;241;43m2\u001b[39;49m\u001b[43m,\u001b[49m\u001b[43m \u001b[49m\u001b[43maverage_precision\u001b[49m\u001b[43m,\u001b[49m\u001b[43m \u001b[49m\u001b[43mwidth\u001b[49m\u001b[43m,\u001b[49m\u001b[43m \u001b[49m\u001b[43mlabel\u001b[49m\u001b[38;5;241;43m=\u001b[39;49m\u001b[38;5;124;43m'\u001b[39;49m\u001b[38;5;124;43mAverage Precision\u001b[39;49m\u001b[38;5;124;43m'\u001b[39;49m\u001b[43m)\u001b[49m\n\u001b[1;32m     10\u001b[0m rects2 \u001b[38;5;241m=\u001b[39m ax\u001b[38;5;241m.\u001b[39mbar(x \u001b[38;5;241m+\u001b[39m width\u001b[38;5;241m/\u001b[39m\u001b[38;5;241m2\u001b[39m, roc_auc, width, label\u001b[38;5;241m=\u001b[39m\u001b[38;5;124m'\u001b[39m\u001b[38;5;124mROC AUC\u001b[39m\u001b[38;5;124m'\u001b[39m)\n\u001b[1;32m     12\u001b[0m \u001b[38;5;66;03m# 添加一些文本标签，标题和轴标签\u001b[39;00m\n",
      "File \u001b[0;32m/home/zlj/.miniconda3/envs/dgnn/lib/python3.10/site-packages/matplotlib/__init__.py:1465\u001b[0m, in \u001b[0;36m_preprocess_data.<locals>.inner\u001b[0;34m(ax, data, *args, **kwargs)\u001b[0m\n\u001b[1;32m   1462\u001b[0m \u001b[38;5;129m@functools\u001b[39m\u001b[38;5;241m.\u001b[39mwraps(func)\n\u001b[1;32m   1463\u001b[0m \u001b[38;5;28;01mdef\u001b[39;00m \u001b[38;5;21minner\u001b[39m(ax, \u001b[38;5;241m*\u001b[39margs, data\u001b[38;5;241m=\u001b[39m\u001b[38;5;28;01mNone\u001b[39;00m, \u001b[38;5;241m*\u001b[39m\u001b[38;5;241m*\u001b[39mkwargs):\n\u001b[1;32m   1464\u001b[0m     \u001b[38;5;28;01mif\u001b[39;00m data \u001b[38;5;129;01mis\u001b[39;00m \u001b[38;5;28;01mNone\u001b[39;00m:\n\u001b[0;32m-> 1465\u001b[0m         \u001b[38;5;28;01mreturn\u001b[39;00m \u001b[43mfunc\u001b[49m\u001b[43m(\u001b[49m\u001b[43max\u001b[49m\u001b[43m,\u001b[49m\u001b[43m \u001b[49m\u001b[38;5;241;43m*\u001b[39;49m\u001b[38;5;28;43mmap\u001b[39;49m\u001b[43m(\u001b[49m\u001b[43msanitize_sequence\u001b[49m\u001b[43m,\u001b[49m\u001b[43m \u001b[49m\u001b[43margs\u001b[49m\u001b[43m)\u001b[49m\u001b[43m,\u001b[49m\u001b[43m \u001b[49m\u001b[38;5;241;43m*\u001b[39;49m\u001b[38;5;241;43m*\u001b[39;49m\u001b[43mkwargs\u001b[49m\u001b[43m)\u001b[49m\n\u001b[1;32m   1467\u001b[0m     bound \u001b[38;5;241m=\u001b[39m new_sig\u001b[38;5;241m.\u001b[39mbind(ax, \u001b[38;5;241m*\u001b[39margs, \u001b[38;5;241m*\u001b[39m\u001b[38;5;241m*\u001b[39mkwargs)\n\u001b[1;32m   1468\u001b[0m     auto_label \u001b[38;5;241m=\u001b[39m (bound\u001b[38;5;241m.\u001b[39marguments\u001b[38;5;241m.\u001b[39mget(label_namer)\n\u001b[1;32m   1469\u001b[0m                   \u001b[38;5;129;01mor\u001b[39;00m bound\u001b[38;5;241m.\u001b[39mkwargs\u001b[38;5;241m.\u001b[39mget(label_namer))\n",
      "File \u001b[0;32m/home/zlj/.miniconda3/envs/dgnn/lib/python3.10/site-packages/matplotlib/axes/_axes.py:2461\u001b[0m, in \u001b[0;36mAxes.bar\u001b[0;34m(self, x, height, width, bottom, align, **kwargs)\u001b[0m\n\u001b[1;32m   2458\u001b[0m     \u001b[38;5;28;01mif\u001b[39;00m yerr \u001b[38;5;129;01mis\u001b[39;00m \u001b[38;5;129;01mnot\u001b[39;00m \u001b[38;5;28;01mNone\u001b[39;00m:\n\u001b[1;32m   2459\u001b[0m         yerr \u001b[38;5;241m=\u001b[39m \u001b[38;5;28mself\u001b[39m\u001b[38;5;241m.\u001b[39m_convert_dx(yerr, y0, y, \u001b[38;5;28mself\u001b[39m\u001b[38;5;241m.\u001b[39mconvert_yunits)\n\u001b[0;32m-> 2461\u001b[0m x, height, width, y, linewidth, hatch \u001b[38;5;241m=\u001b[39m \u001b[43mnp\u001b[49m\u001b[38;5;241;43m.\u001b[39;49m\u001b[43mbroadcast_arrays\u001b[49m\u001b[43m(\u001b[49m\n\u001b[1;32m   2462\u001b[0m \u001b[43m    \u001b[49m\u001b[38;5;66;43;03m# Make args iterable too.\u001b[39;49;00m\n\u001b[1;32m   2463\u001b[0m \u001b[43m    \u001b[49m\u001b[43mnp\u001b[49m\u001b[38;5;241;43m.\u001b[39;49m\u001b[43matleast_1d\u001b[49m\u001b[43m(\u001b[49m\u001b[43mx\u001b[49m\u001b[43m)\u001b[49m\u001b[43m,\u001b[49m\u001b[43m \u001b[49m\u001b[43mheight\u001b[49m\u001b[43m,\u001b[49m\u001b[43m \u001b[49m\u001b[43mwidth\u001b[49m\u001b[43m,\u001b[49m\u001b[43m \u001b[49m\u001b[43my\u001b[49m\u001b[43m,\u001b[49m\u001b[43m \u001b[49m\u001b[43mlinewidth\u001b[49m\u001b[43m,\u001b[49m\u001b[43m \u001b[49m\u001b[43mhatch\u001b[49m\u001b[43m)\u001b[49m\n\u001b[1;32m   2465\u001b[0m \u001b[38;5;66;03m# Now that units have been converted, set the tick locations.\u001b[39;00m\n\u001b[1;32m   2466\u001b[0m \u001b[38;5;28;01mif\u001b[39;00m orientation \u001b[38;5;241m==\u001b[39m \u001b[38;5;124m'\u001b[39m\u001b[38;5;124mvertical\u001b[39m\u001b[38;5;124m'\u001b[39m:\n",
      "File \u001b[0;32m/home/zlj/.miniconda3/envs/dgnn/lib/python3.10/site-packages/numpy/lib/stride_tricks.py:540\u001b[0m, in \u001b[0;36mbroadcast_arrays\u001b[0;34m(subok, *args)\u001b[0m\n\u001b[1;32m    533\u001b[0m \u001b[38;5;66;03m# nditer is not used here to avoid the limit of 32 arrays.\u001b[39;00m\n\u001b[1;32m    534\u001b[0m \u001b[38;5;66;03m# Otherwise, something like the following one-liner would suffice:\u001b[39;00m\n\u001b[1;32m    535\u001b[0m \u001b[38;5;66;03m# return np.nditer(args, flags=['multi_index', 'zerosize_ok'],\u001b[39;00m\n\u001b[1;32m    536\u001b[0m \u001b[38;5;66;03m#                  order='C').itviews\u001b[39;00m\n\u001b[1;32m    538\u001b[0m args \u001b[38;5;241m=\u001b[39m [np\u001b[38;5;241m.\u001b[39marray(_m, copy\u001b[38;5;241m=\u001b[39m\u001b[38;5;28;01mFalse\u001b[39;00m, subok\u001b[38;5;241m=\u001b[39msubok) \u001b[38;5;28;01mfor\u001b[39;00m _m \u001b[38;5;129;01min\u001b[39;00m args]\n\u001b[0;32m--> 540\u001b[0m shape \u001b[38;5;241m=\u001b[39m \u001b[43m_broadcast_shape\u001b[49m\u001b[43m(\u001b[49m\u001b[38;5;241;43m*\u001b[39;49m\u001b[43margs\u001b[49m\u001b[43m)\u001b[49m\n\u001b[1;32m    542\u001b[0m \u001b[38;5;28;01mif\u001b[39;00m \u001b[38;5;28mall\u001b[39m(array\u001b[38;5;241m.\u001b[39mshape \u001b[38;5;241m==\u001b[39m shape \u001b[38;5;28;01mfor\u001b[39;00m array \u001b[38;5;129;01min\u001b[39;00m args):\n\u001b[1;32m    543\u001b[0m     \u001b[38;5;66;03m# Common case where nothing needs to be broadcasted.\u001b[39;00m\n\u001b[1;32m    544\u001b[0m     \u001b[38;5;28;01mreturn\u001b[39;00m args\n",
      "File \u001b[0;32m/home/zlj/.miniconda3/envs/dgnn/lib/python3.10/site-packages/numpy/lib/stride_tricks.py:422\u001b[0m, in \u001b[0;36m_broadcast_shape\u001b[0;34m(*args)\u001b[0m\n\u001b[1;32m    417\u001b[0m \u001b[38;5;250m\u001b[39m\u001b[38;5;124;03m\"\"\"Returns the shape of the arrays that would result from broadcasting the\u001b[39;00m\n\u001b[1;32m    418\u001b[0m \u001b[38;5;124;03msupplied arrays against each other.\u001b[39;00m\n\u001b[1;32m    419\u001b[0m \u001b[38;5;124;03m\"\"\"\u001b[39;00m\n\u001b[1;32m    420\u001b[0m \u001b[38;5;66;03m# use the old-iterator because np.nditer does not handle size 0 arrays\u001b[39;00m\n\u001b[1;32m    421\u001b[0m \u001b[38;5;66;03m# consistently\u001b[39;00m\n\u001b[0;32m--> 422\u001b[0m b \u001b[38;5;241m=\u001b[39m \u001b[43mnp\u001b[49m\u001b[38;5;241;43m.\u001b[39;49m\u001b[43mbroadcast\u001b[49m\u001b[43m(\u001b[49m\u001b[38;5;241;43m*\u001b[39;49m\u001b[43margs\u001b[49m\u001b[43m[\u001b[49m\u001b[43m:\u001b[49m\u001b[38;5;241;43m32\u001b[39;49m\u001b[43m]\u001b[49m\u001b[43m)\u001b[49m\n\u001b[1;32m    423\u001b[0m \u001b[38;5;66;03m# unfortunately, it cannot handle 32 or more arguments directly\u001b[39;00m\n\u001b[1;32m    424\u001b[0m \u001b[38;5;28;01mfor\u001b[39;00m pos \u001b[38;5;129;01min\u001b[39;00m \u001b[38;5;28mrange\u001b[39m(\u001b[38;5;241m32\u001b[39m, \u001b[38;5;28mlen\u001b[39m(args), \u001b[38;5;241m31\u001b[39m):\n\u001b[1;32m    425\u001b[0m     \u001b[38;5;66;03m# ironically, np.broadcast does not properly handle np.broadcast\u001b[39;00m\n\u001b[1;32m    426\u001b[0m     \u001b[38;5;66;03m# objects (it treats them as scalars)\u001b[39;00m\n\u001b[1;32m    427\u001b[0m     \u001b[38;5;66;03m# use broadcasting to avoid allocating the full array\u001b[39;00m\n",
      "\u001b[0;31mValueError\u001b[0m: shape mismatch: objects cannot be broadcast to a single shape.  Mismatch is between arg 0 with shape (166,) and arg 1 with shape (158,)."
     ]
    },
    {
     "data": {
      "image/png": "[encoded data removed]",
      "text/plain": [
       "<Figure size 640x480 with 1 Axes>"
      ]
     },
     "metadata": {},
     "output_type": "display_data"
    }
   ],
   "source": [
    "x = np.arange(len(labels))  # 标签位置\n",
    "width = 0.35  # 柱子的宽度\n",
    "\n",
    "fig, ax = plt.subplots()\n",
    "\n",
    "# 添加柱状图\n",
    "rects1 = ax.bar(x - width/2, average_precision, width, label='Average Precision')\n",
    "rects2 = ax.bar(x + width/2, roc_auc, width, label='ROC AUC')\n",
    "\n",
    "# 添加一些文本标签，标题和轴标签\n",
    "ax.set_ylabel('Scores')\n",
    "ax.set_title('Scores by group and metric')\n",
    "ax.set_xticks(x)\n",
    "ax.set_xticklabels(labels)\n",
    "ax.legend()\n",
    "\n",
    "# 添加每个柱子的数值标签\n",
    "def autolabel(rects):\n",
    "    \"\"\"Attach a text label above each bar in *rects*, displaying its height.\"\"\"\n",
    "    for rect in rects:\n",
    "        height = rect.get_height()\n",
    "        ax.annotate('{}'.format(height),\n",
    "                    xy=(rect.get_x() + rect.get_width() / 2, height),\n",
    "                    xytext=(0, 3),  # 3 points vertical offset\n",
    "                    textcoords=\"offset points\",\n",
    "                    ha='center', va='bottom')\n",
    "\n",
    "autolabel(rects1)\n",
    "autolabel(rects2)"
   ]
  },
  {
   "cell_type": "code",
   "execution_count": 12,
   "metadata": {},
   "outputs": [],
   "source": [
    "fig.tight_layout()\n",
    "plt.show()"
   ]
  }
 ],
 "metadata": {
  "kernelspec": {
   "display_name": "dgnn",
   "language": "python",
   "name": "python3"
  },
  "language_info": {
   "codemirror_mode": {
    "name": "ipython",
    "version": 3
   },
   "file_extension": ".py",
   "mimetype": "text/x-python",
   "name": "python",
   "nbconvert_exporter": "python",
   "pygments_lexer": "ipython3",
   "version": "3.10.14"
  }
 },
 "nbformat": 4,
 "nbformat_minor": 2
}
